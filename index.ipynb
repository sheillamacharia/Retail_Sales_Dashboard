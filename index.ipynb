{
 "cells": [
  {
   "cell_type": "markdown",
   "id": "03e354ff",
   "metadata": {},
   "source": [
    "## **IMPORTING DATA**"
   ]
  },
  {
   "cell_type": "code",
   "execution_count": 26,
   "id": "de0e5b0f",
   "metadata": {},
   "outputs": [],
   "source": [
    "import pandas as pd\n",
    "import numpy as np\n",
    "import seaborn as sns\n",
    "import matplotlib.pyplot as plt\n",
    "%matplotlib inline"
   ]
  },
  {
   "cell_type": "code",
   "execution_count": 2,
   "id": "a6135146",
   "metadata": {},
   "outputs": [
    {
     "data": {
      "text/html": [
       "<div>\n",
       "<style scoped>\n",
       "    .dataframe tbody tr th:only-of-type {\n",
       "        vertical-align: middle;\n",
       "    }\n",
       "\n",
       "    .dataframe tbody tr th {\n",
       "        vertical-align: top;\n",
       "    }\n",
       "\n",
       "    .dataframe thead th {\n",
       "        text-align: right;\n",
       "    }\n",
       "</style>\n",
       "<table border=\"1\" class=\"dataframe\">\n",
       "  <thead>\n",
       "    <tr style=\"text-align: right;\">\n",
       "      <th></th>\n",
       "      <th>Customer ID</th>\n",
       "      <th>Category</th>\n",
       "      <th>Item</th>\n",
       "      <th>Price Per Unit</th>\n",
       "      <th>Quantity</th>\n",
       "      <th>Total Spent</th>\n",
       "      <th>Payment Method</th>\n",
       "      <th>Location</th>\n",
       "      <th>Transaction Date</th>\n",
       "      <th>Discount Applied</th>\n",
       "    </tr>\n",
       "    <tr>\n",
       "      <th>Transaction ID</th>\n",
       "      <th></th>\n",
       "      <th></th>\n",
       "      <th></th>\n",
       "      <th></th>\n",
       "      <th></th>\n",
       "      <th></th>\n",
       "      <th></th>\n",
       "      <th></th>\n",
       "      <th></th>\n",
       "      <th></th>\n",
       "    </tr>\n",
       "  </thead>\n",
       "  <tbody>\n",
       "    <tr>\n",
       "      <th>TXN_6867343</th>\n",
       "      <td>CUST_09</td>\n",
       "      <td>Patisserie</td>\n",
       "      <td>Item_10_PAT</td>\n",
       "      <td>18.5</td>\n",
       "      <td>10.0</td>\n",
       "      <td>185.0</td>\n",
       "      <td>Digital Wallet</td>\n",
       "      <td>Online</td>\n",
       "      <td>2024-04-08</td>\n",
       "      <td>True</td>\n",
       "    </tr>\n",
       "    <tr>\n",
       "      <th>TXN_3731986</th>\n",
       "      <td>CUST_22</td>\n",
       "      <td>Milk Products</td>\n",
       "      <td>Item_17_MILK</td>\n",
       "      <td>29.0</td>\n",
       "      <td>9.0</td>\n",
       "      <td>261.0</td>\n",
       "      <td>Digital Wallet</td>\n",
       "      <td>Online</td>\n",
       "      <td>2023-07-23</td>\n",
       "      <td>True</td>\n",
       "    </tr>\n",
       "    <tr>\n",
       "      <th>TXN_9303719</th>\n",
       "      <td>CUST_02</td>\n",
       "      <td>Butchers</td>\n",
       "      <td>Item_12_BUT</td>\n",
       "      <td>21.5</td>\n",
       "      <td>2.0</td>\n",
       "      <td>43.0</td>\n",
       "      <td>Credit Card</td>\n",
       "      <td>Online</td>\n",
       "      <td>2022-10-05</td>\n",
       "      <td>False</td>\n",
       "    </tr>\n",
       "    <tr>\n",
       "      <th>TXN_9458126</th>\n",
       "      <td>CUST_06</td>\n",
       "      <td>Beverages</td>\n",
       "      <td>Item_16_BEV</td>\n",
       "      <td>27.5</td>\n",
       "      <td>9.0</td>\n",
       "      <td>247.5</td>\n",
       "      <td>Credit Card</td>\n",
       "      <td>Online</td>\n",
       "      <td>2022-05-07</td>\n",
       "      <td>NaN</td>\n",
       "    </tr>\n",
       "    <tr>\n",
       "      <th>TXN_4575373</th>\n",
       "      <td>CUST_05</td>\n",
       "      <td>Food</td>\n",
       "      <td>Item_6_FOOD</td>\n",
       "      <td>12.5</td>\n",
       "      <td>7.0</td>\n",
       "      <td>87.5</td>\n",
       "      <td>Digital Wallet</td>\n",
       "      <td>Online</td>\n",
       "      <td>2022-10-02</td>\n",
       "      <td>False</td>\n",
       "    </tr>\n",
       "  </tbody>\n",
       "</table>\n",
       "</div>"
      ],
      "text/plain": [
       "               Customer ID       Category          Item  Price Per Unit  \\\n",
       "Transaction ID                                                            \n",
       "TXN_6867343        CUST_09     Patisserie   Item_10_PAT            18.5   \n",
       "TXN_3731986        CUST_22  Milk Products  Item_17_MILK            29.0   \n",
       "TXN_9303719        CUST_02       Butchers   Item_12_BUT            21.5   \n",
       "TXN_9458126        CUST_06      Beverages   Item_16_BEV            27.5   \n",
       "TXN_4575373        CUST_05           Food   Item_6_FOOD            12.5   \n",
       "\n",
       "                Quantity  Total Spent  Payment Method Location  \\\n",
       "Transaction ID                                                   \n",
       "TXN_6867343         10.0        185.0  Digital Wallet   Online   \n",
       "TXN_3731986          9.0        261.0  Digital Wallet   Online   \n",
       "TXN_9303719          2.0         43.0     Credit Card   Online   \n",
       "TXN_9458126          9.0        247.5     Credit Card   Online   \n",
       "TXN_4575373          7.0         87.5  Digital Wallet   Online   \n",
       "\n",
       "               Transaction Date Discount Applied  \n",
       "Transaction ID                                    \n",
       "TXN_6867343          2024-04-08             True  \n",
       "TXN_3731986          2023-07-23             True  \n",
       "TXN_9303719          2022-10-05            False  \n",
       "TXN_9458126          2022-05-07              NaN  \n",
       "TXN_4575373          2022-10-02            False  "
      ]
     },
     "execution_count": 2,
     "metadata": {},
     "output_type": "execute_result"
    }
   ],
   "source": [
    "sales_df = pd.read_csv(\"data/retail_store_sales.csv\", index_col=0)\n",
    "sales_df.head()"
   ]
  },
  {
   "cell_type": "code",
   "execution_count": 3,
   "id": "a7b04408",
   "metadata": {},
   "outputs": [
    {
     "name": "stdout",
     "output_type": "stream",
     "text": [
      "<class 'pandas.core.frame.DataFrame'>\n",
      "Index: 12575 entries, TXN_6867343 to TXN_2407494\n",
      "Data columns (total 10 columns):\n",
      " #   Column            Non-Null Count  Dtype  \n",
      "---  ------            --------------  -----  \n",
      " 0   Customer ID       12575 non-null  object \n",
      " 1   Category          12575 non-null  object \n",
      " 2   Item              11362 non-null  object \n",
      " 3   Price Per Unit    11966 non-null  float64\n",
      " 4   Quantity          11971 non-null  float64\n",
      " 5   Total Spent       11971 non-null  float64\n",
      " 6   Payment Method    12575 non-null  object \n",
      " 7   Location          12575 non-null  object \n",
      " 8   Transaction Date  12575 non-null  object \n",
      " 9   Discount Applied  8376 non-null   object \n",
      "dtypes: float64(3), object(7)\n",
      "memory usage: 1.1+ MB\n"
     ]
    }
   ],
   "source": [
    "sales_df.info()"
   ]
  },
  {
   "cell_type": "code",
   "execution_count": 4,
   "id": "73db676f",
   "metadata": {},
   "outputs": [
    {
     "data": {
      "text/plain": [
       "(12575, 10)"
      ]
     },
     "execution_count": 4,
     "metadata": {},
     "output_type": "execute_result"
    }
   ],
   "source": [
    "sales_df.shape"
   ]
  },
  {
   "cell_type": "markdown",
   "id": "854415b8",
   "metadata": {},
   "source": [
    "## **Data Cleaning**"
   ]
  },
  {
   "cell_type": "code",
   "execution_count": 5,
   "id": "c9daae78",
   "metadata": {},
   "outputs": [
    {
     "data": {
      "text/plain": [
       "False    12575\n",
       "dtype: int64"
      ]
     },
     "execution_count": 5,
     "metadata": {},
     "output_type": "execute_result"
    }
   ],
   "source": [
    "# checking for duplicates\n",
    "sales_df_duplicates = sales_df.duplicated().value_counts()\n",
    "sales_df_duplicates"
   ]
  },
  {
   "cell_type": "code",
   "execution_count": 6,
   "id": "c9817709",
   "metadata": {},
   "outputs": [
    {
     "data": {
      "text/plain": [
       "Customer ID            0\n",
       "Category               0\n",
       "Item                1213\n",
       "Price Per Unit       609\n",
       "Quantity             604\n",
       "Total Spent          604\n",
       "Payment Method         0\n",
       "Location               0\n",
       "Transaction Date       0\n",
       "Discount Applied    4199\n",
       "dtype: int64"
      ]
     },
     "execution_count": 6,
     "metadata": {},
     "output_type": "execute_result"
    }
   ],
   "source": [
    "# checking for missing values\n",
    "sales_df.isna().sum()"
   ]
  },
  {
   "cell_type": "code",
   "execution_count": 7,
   "id": "fba1c7ff",
   "metadata": {},
   "outputs": [
    {
     "data": {
      "text/plain": [
       "Customer ID            0\n",
       "Category               0\n",
       "Item                1213\n",
       "Price Per Unit         0\n",
       "Quantity             604\n",
       "Total Spent          604\n",
       "Payment Method         0\n",
       "Location               0\n",
       "Transaction Date       0\n",
       "Discount Applied    4199\n",
       "dtype: int64"
      ]
     },
     "execution_count": 7,
     "metadata": {},
     "output_type": "execute_result"
    }
   ],
   "source": [
    "# filling in values in the price per unit\n",
    "sales_df[\"Price Per Unit\"] = sales_df[\"Price Per Unit\"].fillna(sales_df[\"Total Spent\"]/sales_df[\"Quantity\"])\n",
    "sales_df.isna().sum()"
   ]
  },
  {
   "cell_type": "code",
   "execution_count": 8,
   "id": "6b100695",
   "metadata": {},
   "outputs": [
    {
     "data": {
      "text/plain": [
       "Customer ID            0\n",
       "Category               0\n",
       "Item                1213\n",
       "Price Per Unit         0\n",
       "Quantity               0\n",
       "Total Spent          604\n",
       "Payment Method         0\n",
       "Location               0\n",
       "Transaction Date       0\n",
       "Discount Applied    4199\n",
       "dtype: int64"
      ]
     },
     "execution_count": 8,
     "metadata": {},
     "output_type": "execute_result"
    }
   ],
   "source": [
    "# filling in values in Quantity\n",
    "sales_df[\"Quantity\"] = sales_df[\"Quantity\"].fillna(sales_df[\"Quantity\"].median())\n",
    "sales_df.isna().sum()"
   ]
  },
  {
   "cell_type": "code",
   "execution_count": 9,
   "id": "8b4508b0",
   "metadata": {},
   "outputs": [
    {
     "data": {
      "text/plain": [
       "Customer ID            0\n",
       "Category               0\n",
       "Item                1213\n",
       "Price Per Unit         0\n",
       "Quantity               0\n",
       "Total Spent            0\n",
       "Payment Method         0\n",
       "Location               0\n",
       "Transaction Date       0\n",
       "Discount Applied    4199\n",
       "dtype: int64"
      ]
     },
     "execution_count": 9,
     "metadata": {},
     "output_type": "execute_result"
    }
   ],
   "source": [
    "#Filling in values in Total spent\n",
    "sales_df[\"Total Spent\"] = sales_df[\"Total Spent\"].fillna(sales_df[\"Price Per Unit\"]*sales_df[\"Quantity\"])\n",
    "sales_df.isna().sum()"
   ]
  },
  {
   "cell_type": "code",
   "execution_count": 10,
   "id": "0be6bb30",
   "metadata": {},
   "outputs": [
    {
     "data": {
      "text/plain": [
       "Customer ID            0\n",
       "Category               0\n",
       "Item                   0\n",
       "Price Per Unit         0\n",
       "Quantity               0\n",
       "Total Spent            0\n",
       "Payment Method         0\n",
       "Location               0\n",
       "Transaction Date       0\n",
       "Discount Applied    4199\n",
       "dtype: int64"
      ]
     },
     "execution_count": 10,
     "metadata": {},
     "output_type": "execute_result"
    }
   ],
   "source": [
    "# filling in values in Item\n",
    "# creating a dictionary with the items and prices\n",
    "item_price = dict(zip(sales_df['Item'],sales_df['Price Per Unit']))\n",
    "\n",
    "from collections import defaultdict\n",
    "\n",
    "# create a dictionary that map in reverse\n",
    "price_item = defaultdict(list)\n",
    "for item, price in item_price.items():\n",
    "    price_item[price].append(item)\n",
    "\n",
    "# handling null values in the Item column using reverse map\n",
    "sales_df['Item'] = sales_df.apply(\n",
    "    lambda row : np.random.choice(price_item[row['Price Per Unit']])\n",
    "    if pd.isnull(row['Item']) and row['Price Per Unit'] in price_item\n",
    "    else row['Item'],\n",
    "    axis=1\n",
    ")\n",
    "\n",
    "sales_df.isna().sum()"
   ]
  },
  {
   "cell_type": "code",
   "execution_count": 14,
   "id": "eea1541f",
   "metadata": {},
   "outputs": [
    {
     "data": {
      "text/plain": [
       "Customer ID         0\n",
       "Category            0\n",
       "Item                0\n",
       "Price Per Unit      0\n",
       "Quantity            0\n",
       "Total Spent         0\n",
       "Payment Method      0\n",
       "Location            0\n",
       "Transaction Date    0\n",
       "dtype: int64"
      ]
     },
     "execution_count": 14,
     "metadata": {},
     "output_type": "execute_result"
    }
   ],
   "source": [
    "sales_df = sales_df.drop(\"Discount Applied\", axis=1)\n",
    "sales_df.isna().sum()"
   ]
  },
  {
   "cell_type": "code",
   "execution_count": 20,
   "id": "41fbc705",
   "metadata": {},
   "outputs": [
    {
     "name": "stdout",
     "output_type": "stream",
     "text": [
      "Furniture                             1591\n",
      "Electric household essentials         1591\n",
      "Food                                  1588\n",
      "Milk Products                         1584\n",
      "Butchers                              1568\n",
      "Beverages                             1567\n",
      "Computers and electric accessories    1558\n",
      "Patisserie                            1528\n",
      "Name: Category, dtype: int64\n",
      "\n",
      "Item: 201\n",
      "\n",
      "Cash              4310\n",
      "Digital Wallet    4144\n",
      "Credit Card       4121\n",
      "Name: Payment Method, dtype: int64\n",
      "\n",
      "Online      6354\n",
      "In-store    6221\n",
      "Name: Location, dtype: int64\n",
      "\n"
     ]
    }
   ],
   "source": [
    "# printing unique values in categorical columns\n",
    "cat_cols = sales_df.select_dtypes(include=['object']).columns.to_list()\n",
    "#excluding column\n",
    "cat_cols = [col for col in cat_cols if col not in ['Transaction ID','Customer ID','Transaction Date']]\n",
    "\n",
    "for col in cat_cols:\n",
    "    if sales_df[col].nunique() > 10:\n",
    "        print(f'{col}: {sales_df[col].nunique()}\\n')\n",
    "    else:\n",
    "        print(f'{sales_df[col].value_counts()}\\n')"
   ]
  },
  {
   "cell_type": "code",
   "execution_count": 22,
   "id": "51d2f24c",
   "metadata": {},
   "outputs": [],
   "source": [
    "#Correcting the data type in the Transaction Date column\n",
    "sales_df['Transaction Date'] = pd.to_datetime(sales_df['Transaction Date'])"
   ]
  },
  {
   "cell_type": "code",
   "execution_count": 23,
   "id": "2e716e9e",
   "metadata": {},
   "outputs": [
    {
     "data": {
      "text/html": [
       "<div>\n",
       "<style scoped>\n",
       "    .dataframe tbody tr th:only-of-type {\n",
       "        vertical-align: middle;\n",
       "    }\n",
       "\n",
       "    .dataframe tbody tr th {\n",
       "        vertical-align: top;\n",
       "    }\n",
       "\n",
       "    .dataframe thead th {\n",
       "        text-align: right;\n",
       "    }\n",
       "</style>\n",
       "<table border=\"1\" class=\"dataframe\">\n",
       "  <thead>\n",
       "    <tr style=\"text-align: right;\">\n",
       "      <th></th>\n",
       "      <th>Customer ID</th>\n",
       "      <th>Category</th>\n",
       "      <th>Item</th>\n",
       "      <th>Price Per Unit</th>\n",
       "      <th>Quantity</th>\n",
       "      <th>Total Spent</th>\n",
       "      <th>Payment Method</th>\n",
       "      <th>Location</th>\n",
       "      <th>Transaction Date</th>\n",
       "    </tr>\n",
       "    <tr>\n",
       "      <th>Transaction ID</th>\n",
       "      <th></th>\n",
       "      <th></th>\n",
       "      <th></th>\n",
       "      <th></th>\n",
       "      <th></th>\n",
       "      <th></th>\n",
       "      <th></th>\n",
       "      <th></th>\n",
       "      <th></th>\n",
       "    </tr>\n",
       "  </thead>\n",
       "  <tbody>\n",
       "    <tr>\n",
       "      <th>TXN_6867343</th>\n",
       "      <td>CUST_09</td>\n",
       "      <td>Patisserie</td>\n",
       "      <td>Item_10_PAT</td>\n",
       "      <td>18.5</td>\n",
       "      <td>10.0</td>\n",
       "      <td>185.0</td>\n",
       "      <td>Digital Wallet</td>\n",
       "      <td>Online</td>\n",
       "      <td>2024-04-08</td>\n",
       "    </tr>\n",
       "    <tr>\n",
       "      <th>TXN_3731986</th>\n",
       "      <td>CUST_22</td>\n",
       "      <td>Milk Products</td>\n",
       "      <td>Item_17_MILK</td>\n",
       "      <td>29.0</td>\n",
       "      <td>9.0</td>\n",
       "      <td>261.0</td>\n",
       "      <td>Digital Wallet</td>\n",
       "      <td>Online</td>\n",
       "      <td>2023-07-23</td>\n",
       "    </tr>\n",
       "    <tr>\n",
       "      <th>TXN_9303719</th>\n",
       "      <td>CUST_02</td>\n",
       "      <td>Butchers</td>\n",
       "      <td>Item_12_BUT</td>\n",
       "      <td>21.5</td>\n",
       "      <td>2.0</td>\n",
       "      <td>43.0</td>\n",
       "      <td>Credit Card</td>\n",
       "      <td>Online</td>\n",
       "      <td>2022-10-05</td>\n",
       "    </tr>\n",
       "    <tr>\n",
       "      <th>TXN_9458126</th>\n",
       "      <td>CUST_06</td>\n",
       "      <td>Beverages</td>\n",
       "      <td>Item_16_BEV</td>\n",
       "      <td>27.5</td>\n",
       "      <td>9.0</td>\n",
       "      <td>247.5</td>\n",
       "      <td>Credit Card</td>\n",
       "      <td>Online</td>\n",
       "      <td>2022-05-07</td>\n",
       "    </tr>\n",
       "    <tr>\n",
       "      <th>TXN_4575373</th>\n",
       "      <td>CUST_05</td>\n",
       "      <td>Food</td>\n",
       "      <td>Item_6_FOOD</td>\n",
       "      <td>12.5</td>\n",
       "      <td>7.0</td>\n",
       "      <td>87.5</td>\n",
       "      <td>Digital Wallet</td>\n",
       "      <td>Online</td>\n",
       "      <td>2022-10-02</td>\n",
       "    </tr>\n",
       "  </tbody>\n",
       "</table>\n",
       "</div>"
      ],
      "text/plain": [
       "               Customer ID       Category          Item  Price Per Unit  \\\n",
       "Transaction ID                                                            \n",
       "TXN_6867343        CUST_09     Patisserie   Item_10_PAT            18.5   \n",
       "TXN_3731986        CUST_22  Milk Products  Item_17_MILK            29.0   \n",
       "TXN_9303719        CUST_02       Butchers   Item_12_BUT            21.5   \n",
       "TXN_9458126        CUST_06      Beverages   Item_16_BEV            27.5   \n",
       "TXN_4575373        CUST_05           Food   Item_6_FOOD            12.5   \n",
       "\n",
       "                Quantity  Total Spent  Payment Method Location  \\\n",
       "Transaction ID                                                   \n",
       "TXN_6867343         10.0        185.0  Digital Wallet   Online   \n",
       "TXN_3731986          9.0        261.0  Digital Wallet   Online   \n",
       "TXN_9303719          2.0         43.0     Credit Card   Online   \n",
       "TXN_9458126          9.0        247.5     Credit Card   Online   \n",
       "TXN_4575373          7.0         87.5  Digital Wallet   Online   \n",
       "\n",
       "               Transaction Date  \n",
       "Transaction ID                   \n",
       "TXN_6867343          2024-04-08  \n",
       "TXN_3731986          2023-07-23  \n",
       "TXN_9303719          2022-10-05  \n",
       "TXN_9458126          2022-05-07  \n",
       "TXN_4575373          2022-10-02  "
      ]
     },
     "execution_count": 23,
     "metadata": {},
     "output_type": "execute_result"
    }
   ],
   "source": [
    "sales_df.head()"
   ]
  },
  {
   "cell_type": "code",
   "execution_count": 28,
   "id": "8e0fe0b6",
   "metadata": {},
   "outputs": [],
   "source": [
    "sales_df.to_csv(\"Cleaned_sales_data.csv\", index=False)"
   ]
  }
 ],
 "metadata": {
  "kernelspec": {
   "display_name": "learn-env",
   "language": "python",
   "name": "python3"
  },
  "language_info": {
   "codemirror_mode": {
    "name": "ipython",
    "version": 3
   },
   "file_extension": ".py",
   "mimetype": "text/x-python",
   "name": "python",
   "nbconvert_exporter": "python",
   "pygments_lexer": "ipython3",
   "version": "3.8.5"
  }
 },
 "nbformat": 4,
 "nbformat_minor": 5
}
